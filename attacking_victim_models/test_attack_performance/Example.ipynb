{
 "cells": [
  {
   "cell_type": "markdown",
   "id": "c260fd88",
   "metadata": {},
   "source": [
    "# Example"
   ]
  },
  {
   "cell_type": "markdown",
   "id": "f8aeac56",
   "metadata": {},
   "source": [
    "## Preparing the Victim Model\n",
    "\n",
    "- You can train a victim model via `raw_victim_models.py` in the `victim_models` folder. \n",
    "- Or you can use our provided model: the WideResNet trained on CIFAR-10. [Download here](https://drive.google.com/file/d/1c99bWNdQCIb7cuNp9RyqZG6CLGqXi3Is/view?usp=drive_link)\n"
   ]
  },
  {
   "cell_type": "markdown",
   "id": "d30a8fe3",
   "metadata": {},
   "source": [
    "## Perparing the GAN Model\n",
    "\n",
    "- We provide the StyleGAN trained on FFHQ. [Download here](https://drive.google.com/file/d/1O-oBlX_aR-83JJfP3KkpswQlcuQI37YK/view?usp=drive_link)\n",
    "- Before executing the attack, specify the path to your pre-trained GAN model in  `attacking_victim_models/oodganattack_raw/gan_models/model_settings.py`. Set `MODEL_DIR='the path to the pre-trained GAN model'`. Ensure the PyTorch model is placed in the designated pytorch folder."
   ]
  },
  {
   "cell_type": "markdown",
   "id": "2368823d",
   "metadata": {},
   "source": [
    "## Out-of-distribution Attacks"
   ]
  },
  {
   "cell_type": "markdown",
   "id": "332f78f4",
   "metadata": {},
   "source": [
    "### White-box attack"
   ]
  },
  {
   "cell_type": "code",
   "execution_count": null,
   "id": "a376c342",
   "metadata": {
    "scrolled": true
   },
   "outputs": [],
   "source": [
    "victim_model_path='File path to the victim model'\n",
    "results_dir='Path to save results of the attack'\n",
    "\n",
    "%run ../oodganattack_raw/attack_raw.py \\\n",
    "--results_dir $results_dir \\\n",
    "--victim_model 'wideresnet' \\\n",
    "--victim_model_path $victim_model_path \\\n",
    "--victim_dataset_name 'cifar10' \\\n",
    "--gan_model 'stylegan_ffhq_32x32' \\\n",
    "--attack_type 'wb' \\\n",
    "--optimization 'sgd'"
   ]
  },
  {
   "cell_type": "markdown",
   "id": "065652d0",
   "metadata": {},
   "source": [
    "### Black-box attack"
   ]
  },
  {
   "cell_type": "code",
   "execution_count": null,
   "id": "aea82c0c",
   "metadata": {},
   "outputs": [],
   "source": [
    "victim_model_path='File path to the victim model'\n",
    "results_dir='Path to save results of the attack'\n",
    "\n",
    "%run ../oodganattack_raw/attack_raw.py \\\n",
    "--results_dir $results_dir \\\n",
    "--victim_model 'wideresnet' \\\n",
    "--victim_model_path $victim_model_path \\\n",
    "--victim_dataset_name 'cifar10' \\\n",
    "--gan_model 'stylegan_ffhq_32x32' \\\n",
    "--attack_type 'bb' \\\n",
    "--optimization 'powell' "
   ]
  },
  {
   "cell_type": "code",
   "execution_count": null,
   "id": "cee7f2b5",
   "metadata": {},
   "outputs": [],
   "source": []
  },
  {
   "cell_type": "markdown",
   "id": "405ae229",
   "metadata": {},
   "source": [
    "## Results\n",
    "\n",
    "- **Output Files**: After conducting the attacks, the result files `xxx.h5py` will be stored in the `OOD_results` folder.\n",
    "- **Summary of Attack Results**: We provide a comprehensive summary of the attack results.\n"
   ]
  },
  {
   "cell_type": "code",
   "execution_count": null,
   "id": "c93e3912",
   "metadata": {},
   "outputs": [],
   "source": [
    "victim_model_path='File path to the victim model'\n",
    "OOD_adv_data_path='Path to the out-of-distribution adversarial data, i.e the result file `xxx.h5py`'\n",
    "\n",
    "\n",
    "%run raw_model_attack_performance.py \\\n",
    "--OOD_adv_data_path $OOD_adv_data_path \\\n",
    "--victim_model 'wideresnet' \\\n",
    "--victim_model_path $victim_model_path \\\n",
    "--victim_dataset_name 'cifar10' \\\n",
    "--attack_type 'wb'"
   ]
  },
  {
   "cell_type": "code",
   "execution_count": null,
   "id": "b421e338",
   "metadata": {},
   "outputs": [],
   "source": [
    "victim_model_path='File path to the victim model'\n",
    "OOD_adv_data_path='Path to the out-of-distribution adversarial data, i.e the result file `xxx.h5py`'\n",
    "\n",
    "%run raw_model_attack_performance.py \\\n",
    "--OOD_adv_data_path $OOD_adv_data_path \\\n",
    "--victim_model 'wideresnet' \\\n",
    "--victim_model_path $victim_model_path \\\n",
    "--victim_dataset_name 'cifar10' \\\n",
    "--attack_type 'bb' "
   ]
  },
  {
   "cell_type": "code",
   "execution_count": null,
   "id": "ba111f9f",
   "metadata": {},
   "outputs": [],
   "source": []
  }
 ],
 "metadata": {
  "kernelspec": {
   "display_name": "oodganattack",
   "language": "python",
   "name": "oodganattack"
  },
  "language_info": {
   "codemirror_mode": {
    "name": "ipython",
    "version": 3
   },
   "file_extension": ".py",
   "mimetype": "text/x-python",
   "name": "python",
   "nbconvert_exporter": "python",
   "pygments_lexer": "ipython3",
   "version": "3.6.13"
  }
 },
 "nbformat": 4,
 "nbformat_minor": 5
}
